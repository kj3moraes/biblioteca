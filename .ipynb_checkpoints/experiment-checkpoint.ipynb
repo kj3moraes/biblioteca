{
 "cells": [
  {
   "cell_type": "code",
   "execution_count": null,
   "id": "b9e03b1e-9ded-4da5-b926-e719d44603a6",
   "metadata": {},
   "outputs": [],
   "source": [
    "import os\n",
    "import cv2\n",
    "import numpy as np\n",
    "import torch\n",
    "from segment_anything import build_sam, sam_model_registry, SamPredictor\n",
    "from PIL import Image\n",
    "import matplotlib.pyplot as plt"
   ]
  },
  {
   "cell_type": "markdown",
   "id": "fa6252ee-55b6-464c-8e17-97f0d55c90da",
   "metadata": {},
   "source": [
    "## Loading the Images\n",
    "\n",
    "We load the images first using PIL."
   ]
  },
  {
   "cell_type": "code",
   "execution_count": null,
   "id": "b9f1bcac-7dcd-4800-b9b5-164ebd4b9ec2",
   "metadata": {},
   "outputs": [],
   "source": [
    "IMAGE_DIR = \"./img\"\n",
    "OUTPUT_DIR = \"./output\"\n",
    "\n",
    "pil_images = []\n",
    "\n",
    "for item in os.iterdir(IMAGE_DIR):\n",
    "    print(item)"
   ]
  }
 ],
 "metadata": {
  "kernelspec": {
   "display_name": "Python 3 (ipykernel)",
   "language": "python",
   "name": "python3"
  },
  "language_info": {
   "codemirror_mode": {
    "name": "ipython",
    "version": 3
   },
   "file_extension": ".py",
   "mimetype": "text/x-python",
   "name": "python",
   "nbconvert_exporter": "python",
   "pygments_lexer": "ipython3",
   "version": "3.11.2"
  }
 },
 "nbformat": 4,
 "nbformat_minor": 5
}
